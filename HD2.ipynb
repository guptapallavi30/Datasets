{
  "nbformat": 4,
  "nbformat_minor": 0,
  "metadata": {
    "colab": {
      "name": "HD2.ipynb",
      "provenance": [],
      "authorship_tag": "ABX9TyOqbqjchgOHj9tHN4dLG0VJ",
      "include_colab_link": true
    },
    "kernelspec": {
      "name": "python3",
      "display_name": "Python 3"
    },
    "accelerator": "GPU"
  },
  "cells": [
    {
      "cell_type": "markdown",
      "metadata": {
        "id": "view-in-github",
        "colab_type": "text"
      },
      "source": [
        "<a href=\"https://colab.research.google.com/github/guptapallavi30/Datasets/blob/master/HD2.ipynb\" target=\"_parent\"><img src=\"https://colab.research.google.com/assets/colab-badge.svg\" alt=\"Open In Colab\"/></a>"
      ]
    },
    {
      "cell_type": "code",
      "metadata": {
        "id": "Jrq9PFQ51lvF",
        "colab_type": "code",
        "colab": {
          "base_uri": "https://localhost:8080/",
          "height": 989
        },
        "outputId": "dba20a72-0244-41fb-bcd9-c99451e91ccf"
      },
      "source": [
        "!pip install talos"
      ],
      "execution_count": 1,
      "outputs": [
        {
          "output_type": "stream",
          "text": [
            "Requirement already satisfied: talos in /usr/local/lib/python3.6/dist-packages (0.6.6)\n",
            "Requirement already satisfied: requests in /usr/local/lib/python3.6/dist-packages (from talos) (2.23.0)\n",
            "Requirement already satisfied: sklearn in /usr/local/lib/python3.6/dist-packages (from talos) (0.0)\n",
            "Requirement already satisfied: tqdm in /usr/local/lib/python3.6/dist-packages (from talos) (4.41.1)\n",
            "Requirement already satisfied: keras==2.3.0 in /usr/local/lib/python3.6/dist-packages (from talos) (2.3.0)\n",
            "Requirement already satisfied: pandas in /usr/local/lib/python3.6/dist-packages (from talos) (1.0.5)\n",
            "Requirement already satisfied: astetik in /usr/local/lib/python3.6/dist-packages (from talos) (1.9.9)\n",
            "Requirement already satisfied: tensorflow==1.14.0 in /usr/local/lib/python3.6/dist-packages (from talos) (1.14.0)\n",
            "Requirement already satisfied: wrangle in /usr/local/lib/python3.6/dist-packages (from talos) (0.6.7)\n",
            "Requirement already satisfied: chances in /usr/local/lib/python3.6/dist-packages (from talos) (0.1.9)\n",
            "Requirement already satisfied: kerasplotlib in /usr/local/lib/python3.6/dist-packages (from talos) (0.1.6)\n",
            "Requirement already satisfied: statsmodels>=0.11.0 in /usr/local/lib/python3.6/dist-packages (from talos) (0.11.1)\n",
            "Requirement already satisfied: numpy in /usr/local/lib/python3.6/dist-packages (from talos) (1.18.5)\n",
            "Requirement already satisfied: idna<3,>=2.5 in /usr/local/lib/python3.6/dist-packages (from requests->talos) (2.10)\n",
            "Requirement already satisfied: urllib3!=1.25.0,!=1.25.1,<1.26,>=1.21.1 in /usr/local/lib/python3.6/dist-packages (from requests->talos) (1.24.3)\n",
            "Requirement already satisfied: certifi>=2017.4.17 in /usr/local/lib/python3.6/dist-packages (from requests->talos) (2020.6.20)\n",
            "Requirement already satisfied: chardet<4,>=3.0.2 in /usr/local/lib/python3.6/dist-packages (from requests->talos) (3.0.4)\n",
            "Requirement already satisfied: scikit-learn in /usr/local/lib/python3.6/dist-packages (from sklearn->talos) (0.22.2.post1)\n",
            "Requirement already satisfied: scipy>=0.14 in /usr/local/lib/python3.6/dist-packages (from keras==2.3.0->talos) (1.4.1)\n",
            "Requirement already satisfied: keras-applications>=1.0.6 in /usr/local/lib/python3.6/dist-packages (from keras==2.3.0->talos) (1.0.8)\n",
            "Requirement already satisfied: six>=1.9.0 in /usr/local/lib/python3.6/dist-packages (from keras==2.3.0->talos) (1.15.0)\n",
            "Requirement already satisfied: keras-preprocessing>=1.0.5 in /usr/local/lib/python3.6/dist-packages (from keras==2.3.0->talos) (1.1.2)\n",
            "Requirement already satisfied: h5py in /usr/local/lib/python3.6/dist-packages (from keras==2.3.0->talos) (2.10.0)\n",
            "Requirement already satisfied: pyyaml in /usr/local/lib/python3.6/dist-packages (from keras==2.3.0->talos) (3.13)\n",
            "Requirement already satisfied: pytz>=2017.2 in /usr/local/lib/python3.6/dist-packages (from pandas->talos) (2018.9)\n",
            "Requirement already satisfied: python-dateutil>=2.6.1 in /usr/local/lib/python3.6/dist-packages (from pandas->talos) (2.8.1)\n",
            "Requirement already satisfied: geonamescache in /usr/local/lib/python3.6/dist-packages (from astetik->talos) (1.2.0)\n",
            "Requirement already satisfied: gast>=0.2.0 in /usr/local/lib/python3.6/dist-packages (from tensorflow==1.14.0->talos) (0.3.3)\n",
            "Requirement already satisfied: tensorboard<1.15.0,>=1.14.0 in /usr/local/lib/python3.6/dist-packages (from tensorflow==1.14.0->talos) (1.14.0)\n",
            "Requirement already satisfied: google-pasta>=0.1.6 in /usr/local/lib/python3.6/dist-packages (from tensorflow==1.14.0->talos) (0.2.0)\n",
            "Requirement already satisfied: protobuf>=3.6.1 in /usr/local/lib/python3.6/dist-packages (from tensorflow==1.14.0->talos) (3.12.4)\n",
            "Requirement already satisfied: tensorflow-estimator<1.15.0rc0,>=1.14.0rc0 in /usr/local/lib/python3.6/dist-packages (from tensorflow==1.14.0->talos) (1.14.0)\n",
            "Requirement already satisfied: termcolor>=1.1.0 in /usr/local/lib/python3.6/dist-packages (from tensorflow==1.14.0->talos) (1.1.0)\n",
            "Requirement already satisfied: grpcio>=1.8.6 in /usr/local/lib/python3.6/dist-packages (from tensorflow==1.14.0->talos) (1.31.0)\n",
            "Requirement already satisfied: wrapt>=1.11.1 in /usr/local/lib/python3.6/dist-packages (from tensorflow==1.14.0->talos) (1.12.1)\n",
            "Requirement already satisfied: wheel>=0.26 in /usr/local/lib/python3.6/dist-packages (from tensorflow==1.14.0->talos) (0.35.1)\n",
            "Requirement already satisfied: astor>=0.6.0 in /usr/local/lib/python3.6/dist-packages (from tensorflow==1.14.0->talos) (0.8.1)\n",
            "Requirement already satisfied: absl-py>=0.7.0 in /usr/local/lib/python3.6/dist-packages (from tensorflow==1.14.0->talos) (0.8.1)\n",
            "Requirement already satisfied: ipython in /usr/local/lib/python3.6/dist-packages (from kerasplotlib->talos) (5.5.0)\n",
            "Requirement already satisfied: patsy>=0.5 in /usr/local/lib/python3.6/dist-packages (from statsmodels>=0.11.0->talos) (0.5.1)\n",
            "Requirement already satisfied: joblib>=0.11 in /usr/local/lib/python3.6/dist-packages (from scikit-learn->sklearn->talos) (0.16.0)\n",
            "Requirement already satisfied: setuptools>=41.0.0 in /usr/local/lib/python3.6/dist-packages (from tensorboard<1.15.0,>=1.14.0->tensorflow==1.14.0->talos) (49.6.0)\n",
            "Requirement already satisfied: werkzeug>=0.11.15 in /usr/local/lib/python3.6/dist-packages (from tensorboard<1.15.0,>=1.14.0->tensorflow==1.14.0->talos) (1.0.1)\n",
            "Requirement already satisfied: markdown>=2.6.8 in /usr/local/lib/python3.6/dist-packages (from tensorboard<1.15.0,>=1.14.0->tensorflow==1.14.0->talos) (3.2.2)\n",
            "Requirement already satisfied: prompt-toolkit<2.0.0,>=1.0.4 in /usr/local/lib/python3.6/dist-packages (from ipython->kerasplotlib->talos) (1.0.18)\n",
            "Requirement already satisfied: pygments in /usr/local/lib/python3.6/dist-packages (from ipython->kerasplotlib->talos) (2.1.3)\n",
            "Requirement already satisfied: traitlets>=4.2 in /usr/local/lib/python3.6/dist-packages (from ipython->kerasplotlib->talos) (4.3.3)\n",
            "Requirement already satisfied: pickleshare in /usr/local/lib/python3.6/dist-packages (from ipython->kerasplotlib->talos) (0.7.5)\n",
            "Requirement already satisfied: simplegeneric>0.8 in /usr/local/lib/python3.6/dist-packages (from ipython->kerasplotlib->talos) (0.8.1)\n",
            "Requirement already satisfied: decorator in /usr/local/lib/python3.6/dist-packages (from ipython->kerasplotlib->talos) (4.4.2)\n",
            "Requirement already satisfied: pexpect; sys_platform != \"win32\" in /usr/local/lib/python3.6/dist-packages (from ipython->kerasplotlib->talos) (4.8.0)\n",
            "Requirement already satisfied: importlib-metadata; python_version < \"3.8\" in /usr/local/lib/python3.6/dist-packages (from markdown>=2.6.8->tensorboard<1.15.0,>=1.14.0->tensorflow==1.14.0->talos) (1.7.0)\n",
            "Requirement already satisfied: wcwidth in /usr/local/lib/python3.6/dist-packages (from prompt-toolkit<2.0.0,>=1.0.4->ipython->kerasplotlib->talos) (0.2.5)\n",
            "Requirement already satisfied: ipython-genutils in /usr/local/lib/python3.6/dist-packages (from traitlets>=4.2->ipython->kerasplotlib->talos) (0.2.0)\n",
            "Requirement already satisfied: ptyprocess>=0.5 in /usr/local/lib/python3.6/dist-packages (from pexpect; sys_platform != \"win32\"->ipython->kerasplotlib->talos) (0.6.0)\n",
            "Requirement already satisfied: zipp>=0.5 in /usr/local/lib/python3.6/dist-packages (from importlib-metadata; python_version < \"3.8\"->markdown>=2.6.8->tensorboard<1.15.0,>=1.14.0->tensorflow==1.14.0->talos) (3.1.0)\n"
          ],
          "name": "stdout"
        }
      ]
    },
    {
      "cell_type": "code",
      "metadata": {
        "id": "J2PE2NcM1g1O",
        "colab_type": "code",
        "colab": {
          "base_uri": "https://localhost:8080/",
          "height": 462
        },
        "outputId": "4fb6f516-5a18-4487-ef6e-8f348ae7b6ad"
      },
      "source": [
        "from keras.models import Sequential\n",
        "from keras.layers import Dropout, Dense\n",
        "\n",
        "%matplotlib inline\n",
        "\n",
        "import sys\n",
        "sys.path.insert(0, '/Users/mikko/Documents/GitHub/talos')\n",
        "import talos"
      ],
      "execution_count": 2,
      "outputs": [
        {
          "output_type": "stream",
          "text": [
            "Using TensorFlow backend.\n",
            "/usr/local/lib/python3.6/dist-packages/tensorflow/python/framework/dtypes.py:516: FutureWarning: Passing (type, 1) or '1type' as a synonym of type is deprecated; in a future version of numpy, it will be understood as (type, (1,)) / '(1,)type'.\n",
            "  _np_qint8 = np.dtype([(\"qint8\", np.int8, 1)])\n",
            "/usr/local/lib/python3.6/dist-packages/tensorflow/python/framework/dtypes.py:517: FutureWarning: Passing (type, 1) or '1type' as a synonym of type is deprecated; in a future version of numpy, it will be understood as (type, (1,)) / '(1,)type'.\n",
            "  _np_quint8 = np.dtype([(\"quint8\", np.uint8, 1)])\n",
            "/usr/local/lib/python3.6/dist-packages/tensorflow/python/framework/dtypes.py:518: FutureWarning: Passing (type, 1) or '1type' as a synonym of type is deprecated; in a future version of numpy, it will be understood as (type, (1,)) / '(1,)type'.\n",
            "  _np_qint16 = np.dtype([(\"qint16\", np.int16, 1)])\n",
            "/usr/local/lib/python3.6/dist-packages/tensorflow/python/framework/dtypes.py:519: FutureWarning: Passing (type, 1) or '1type' as a synonym of type is deprecated; in a future version of numpy, it will be understood as (type, (1,)) / '(1,)type'.\n",
            "  _np_quint16 = np.dtype([(\"quint16\", np.uint16, 1)])\n",
            "/usr/local/lib/python3.6/dist-packages/tensorflow/python/framework/dtypes.py:520: FutureWarning: Passing (type, 1) or '1type' as a synonym of type is deprecated; in a future version of numpy, it will be understood as (type, (1,)) / '(1,)type'.\n",
            "  _np_qint32 = np.dtype([(\"qint32\", np.int32, 1)])\n",
            "/usr/local/lib/python3.6/dist-packages/tensorflow/python/framework/dtypes.py:525: FutureWarning: Passing (type, 1) or '1type' as a synonym of type is deprecated; in a future version of numpy, it will be understood as (type, (1,)) / '(1,)type'.\n",
            "  np_resource = np.dtype([(\"resource\", np.ubyte, 1)])\n",
            "/usr/local/lib/python3.6/dist-packages/tensorboard/compat/tensorflow_stub/dtypes.py:541: FutureWarning: Passing (type, 1) or '1type' as a synonym of type is deprecated; in a future version of numpy, it will be understood as (type, (1,)) / '(1,)type'.\n",
            "  _np_qint8 = np.dtype([(\"qint8\", np.int8, 1)])\n",
            "/usr/local/lib/python3.6/dist-packages/tensorboard/compat/tensorflow_stub/dtypes.py:542: FutureWarning: Passing (type, 1) or '1type' as a synonym of type is deprecated; in a future version of numpy, it will be understood as (type, (1,)) / '(1,)type'.\n",
            "  _np_quint8 = np.dtype([(\"quint8\", np.uint8, 1)])\n",
            "/usr/local/lib/python3.6/dist-packages/tensorboard/compat/tensorflow_stub/dtypes.py:543: FutureWarning: Passing (type, 1) or '1type' as a synonym of type is deprecated; in a future version of numpy, it will be understood as (type, (1,)) / '(1,)type'.\n",
            "  _np_qint16 = np.dtype([(\"qint16\", np.int16, 1)])\n",
            "/usr/local/lib/python3.6/dist-packages/tensorboard/compat/tensorflow_stub/dtypes.py:544: FutureWarning: Passing (type, 1) or '1type' as a synonym of type is deprecated; in a future version of numpy, it will be understood as (type, (1,)) / '(1,)type'.\n",
            "  _np_quint16 = np.dtype([(\"quint16\", np.uint16, 1)])\n",
            "/usr/local/lib/python3.6/dist-packages/tensorboard/compat/tensorflow_stub/dtypes.py:545: FutureWarning: Passing (type, 1) or '1type' as a synonym of type is deprecated; in a future version of numpy, it will be understood as (type, (1,)) / '(1,)type'.\n",
            "  _np_qint32 = np.dtype([(\"qint32\", np.int32, 1)])\n",
            "/usr/local/lib/python3.6/dist-packages/tensorboard/compat/tensorflow_stub/dtypes.py:550: FutureWarning: Passing (type, 1) or '1type' as a synonym of type is deprecated; in a future version of numpy, it will be understood as (type, (1,)) / '(1,)type'.\n",
            "  np_resource = np.dtype([(\"resource\", np.ubyte, 1)])\n"
          ],
          "name": "stderr"
        }
      ]
    },
    {
      "cell_type": "code",
      "metadata": {
        "id": "x13wIZRjzuJg",
        "colab_type": "code",
        "colab": {}
      },
      "source": [
        "# Load the Pandas libraries with alias 'pd' \n",
        "import pandas as pd \n",
        "\n",
        "# Read data from file 'filename.csv' \n",
        "# (in the same directory that your python process is based)\n",
        "# Control delimiters, rows, column names with read_csv (see later) \n",
        "url = 'https://raw.githubusercontent.com/guptapallavi30/Datasets/master/processed.hungarian.csv'\n",
        "#header=[\"age\", \"sex\", \"cp\", \"trestbps\", \"chol\", \"fbs\", \"restecg\", \"thalach\",\"exang\", \"oldpeak\", \"slope\", \"ca\", \"thal\", \"prediction\"]\n",
        "data = pd.read_csv(url, header = None) # header = None means no header in csv file\n",
        "#data = pd.read_csv(\"./Datasets/processed.hungarian.csv\") \n",
        "# Preview the first 5 lines of the loaded data \n",
        "#data.head()"
      ],
      "execution_count": 3,
      "outputs": []
    },
    {
      "cell_type": "code",
      "metadata": {
        "id": "FMG39d9808Gj",
        "colab_type": "code",
        "colab": {}
      },
      "source": [
        "import numpy as np\n",
        "data = data.replace(to_replace = '?', value = np.nan)\n",
        "#data.head()"
      ],
      "execution_count": 4,
      "outputs": []
    },
    {
      "cell_type": "code",
      "metadata": {
        "id": "ujbNSMqf1A7z",
        "colab_type": "code",
        "colab": {
          "base_uri": "https://localhost:8080/",
          "height": 289
        },
        "outputId": "daa4116c-2b00-4c28-aec6-f5e995f1f2f5"
      },
      "source": [
        "print(data.shape)\n",
        "#for pandas\n",
        "data.isna().sum()"
      ],
      "execution_count": 5,
      "outputs": [
        {
          "output_type": "stream",
          "text": [
            "(294, 14)\n"
          ],
          "name": "stdout"
        },
        {
          "output_type": "execute_result",
          "data": {
            "text/plain": [
              "0       0\n",
              "1       0\n",
              "2       0\n",
              "3       1\n",
              "4      23\n",
              "5       8\n",
              "6       1\n",
              "7       1\n",
              "8       1\n",
              "9       0\n",
              "10    190\n",
              "11    291\n",
              "12    266\n",
              "13      0\n",
              "dtype: int64"
            ]
          },
          "metadata": {
            "tags": []
          },
          "execution_count": 5
        }
      ]
    },
    {
      "cell_type": "code",
      "metadata": {
        "id": "z9lJpODv1EXr",
        "colab_type": "code",
        "colab": {
          "base_uri": "https://localhost:8080/",
          "height": 187
        },
        "outputId": "31135ee5-d9d3-4344-c72c-5b844c0ff3ce"
      },
      "source": [
        "data.drop(data.columns[10:13], axis = 1, inplace = True)\n",
        "data.drop(data.columns[4:6], axis = 1, inplace = True) # drop column 4 and 5\n",
        "#data.isna().sum()\n",
        "data.fillna(data.mean(axis = 1), inplace = True)\n",
        "data.dropna(inplace = True)\n",
        "data.isna().sum()"
      ],
      "execution_count": 6,
      "outputs": [
        {
          "output_type": "execute_result",
          "data": {
            "text/plain": [
              "0     0\n",
              "1     0\n",
              "2     0\n",
              "3     0\n",
              "6     0\n",
              "7     0\n",
              "8     0\n",
              "9     0\n",
              "13    0\n",
              "dtype: int64"
            ]
          },
          "metadata": {
            "tags": []
          },
          "execution_count": 6
        }
      ]
    },
    {
      "cell_type": "code",
      "metadata": {
        "id": "OIORKa6_1O6F",
        "colab_type": "code",
        "colab": {}
      },
      "source": [
        "#change all values in data to int\n",
        "data = data.astype(int) "
      ],
      "execution_count": 7,
      "outputs": []
    },
    {
      "cell_type": "code",
      "metadata": {
        "id": "xTXOJSDl1RRx",
        "colab_type": "code",
        "colab": {}
      },
      "source": [
        "# first we have to make sure to input data and params into the function\n",
        "def breast_cancer_model(x_train, y_train, x_val, y_val, params):\n",
        "\n",
        "    model = Sequential()\n",
        "    model.add(Dense(params['first_neuron'], input_dim=x_train.shape[1],\n",
        "                    activation=params['activation'],\n",
        "                    kernel_initializer=params['kernel_initializer']))\n",
        "    \n",
        "    model.add(Dropout(params['dropout']))\n",
        "\n",
        "    model.add(Dense(1, activation=params['last_activation'],\n",
        "                    kernel_initializer=params['kernel_initializer']))\n",
        "    \n",
        "    model.compile(loss=params['losses'],\n",
        "                  optimizer=params['optimizer'],\n",
        "                  metrics=['acc', talos.utils.metrics.f1score])\n",
        "    \n",
        "    history = model.fit(x_train, y_train, \n",
        "                        validation_data=[x_val, y_val],\n",
        "                        batch_size=params['batch_size'],\n",
        "                        callbacks=[talos.utils.live()],\n",
        "                        epochs=params['epochs'],\n",
        "                        verbose=0)\n",
        "\n",
        "    return history, model"
      ],
      "execution_count": 8,
      "outputs": []
    },
    {
      "cell_type": "code",
      "metadata": {
        "id": "_QkPtby81Y70",
        "colab_type": "code",
        "colab": {
          "base_uri": "https://localhost:8080/",
          "height": 85
        },
        "outputId": "91cfd29b-23e9-4ed8-9dae-4699a2439dd8"
      },
      "source": [
        "#shuffle rows\n",
        "data = data.sample(frac = 1)\n",
        "print(data.shape)\n",
        "\n",
        "# convert datafram to numpy\n",
        "data = data.to_numpy()\n",
        "\n",
        "# then we load the dataset\n",
        "# separate x and y\n",
        "print(type(data))\n",
        "y = data[:, data.shape[1] - 1]\n",
        "x = data[:, 0:(data.shape[1] - 1)]\n",
        "print(type(y))\n",
        "y=y.astype('int')\n",
        "print(type(y))\n",
        "\n",
        "# and normalize every feature to mean 0, std 1\n",
        "x = talos.utils.rescale_meanzero(x)"
      ],
      "execution_count": 9,
      "outputs": [
        {
          "output_type": "stream",
          "text": [
            "(294, 9)\n",
            "<class 'numpy.ndarray'>\n",
            "<class 'numpy.ndarray'>\n",
            "<class 'numpy.ndarray'>\n"
          ],
          "name": "stdout"
        }
      ]
    },
    {
      "cell_type": "code",
      "metadata": {
        "id": "UrFLHeR12LdJ",
        "colab_type": "code",
        "colab": {
          "base_uri": "https://localhost:8080/",
          "height": 476
        },
        "outputId": "a257bfbd-1291-4f37-80c0-938bb083ac41"
      },
      "source": [
        "x, y"
      ],
      "execution_count": 10,
      "outputs": [
        {
          "output_type": "execute_result",
          "data": {
            "text/plain": [
              "(array([[-1.12989536,  0.61562019, -1.01852254, ..., -0.75389969,\n",
              "         -0.54121653, -0.62238472],\n",
              "        [ 0.1502173 ,  0.61562019,  0.0176215 , ...,  1.46579404,\n",
              "         -0.54121653, -0.62238472],\n",
              "        [ 0.02220604,  0.61562019,  1.05376554, ..., -1.15748036,\n",
              "         -0.54121653, -0.62238472],\n",
              "        ...,\n",
              "        [-1.12989536,  0.61562019, -1.01852254, ...,  0.29541007,\n",
              "         -0.54121653,  1.65067251],\n",
              "        [ 0.9182849 ,  0.61562019, -1.01852254, ...,  0.45684235,\n",
              "         -0.54121653, -0.62238472],\n",
              "        [ 0.02220604,  0.61562019, -1.01852254, ..., -0.83461582,\n",
              "         -0.54121653, -0.62238472]]),\n",
              " array([0, 1, 1, 0, 0, 1, 1, 1, 1, 1, 1, 1, 1, 1, 0, 1, 0, 0, 1, 0, 0, 1,\n",
              "        0, 0, 1, 0, 0, 0, 0, 1, 1, 0, 0, 0, 0, 1, 0, 1, 1, 0, 1, 0, 0, 0,\n",
              "        0, 0, 0, 1, 0, 0, 1, 1, 0, 0, 1, 1, 1, 0, 1, 0, 0, 1, 1, 1, 0, 0,\n",
              "        0, 1, 0, 0, 1, 0, 1, 0, 0, 0, 1, 0, 0, 0, 0, 0, 0, 1, 0, 0, 0, 1,\n",
              "        0, 0, 0, 1, 0, 1, 1, 0, 1, 0, 0, 0, 0, 0, 1, 0, 0, 0, 0, 1, 0, 1,\n",
              "        1, 0, 0, 0, 1, 0, 0, 0, 1, 0, 0, 1, 1, 0, 0, 1, 0, 0, 1, 0, 0, 0,\n",
              "        0, 1, 0, 0, 1, 0, 1, 0, 0, 1, 1, 1, 0, 0, 0, 0, 1, 1, 0, 0, 0, 1,\n",
              "        1, 0, 0, 1, 0, 0, 0, 0, 0, 0, 1, 0, 0, 1, 0, 0, 0, 1, 0, 0, 0, 0,\n",
              "        0, 0, 1, 1, 0, 0, 0, 0, 0, 1, 1, 0, 1, 1, 0, 1, 0, 0, 0, 0, 0, 0,\n",
              "        0, 1, 1, 1, 1, 1, 1, 1, 0, 1, 0, 0, 0, 0, 0, 0, 1, 0, 0, 1, 1, 0,\n",
              "        1, 1, 1, 0, 0, 1, 0, 0, 0, 0, 1, 0, 0, 1, 0, 1, 1, 0, 1, 0, 0, 0,\n",
              "        0, 0, 0, 1, 0, 0, 0, 0, 1, 1, 1, 0, 0, 0, 0, 0, 0, 1, 1, 0, 1, 0,\n",
              "        0, 1, 0, 0, 0, 0, 1, 0, 0, 0, 0, 1, 0, 1, 1, 0, 0, 0, 0, 1, 0, 0,\n",
              "        0, 0, 0, 1, 0, 0, 0, 0]))"
            ]
          },
          "metadata": {
            "tags": []
          },
          "execution_count": 10
        }
      ]
    },
    {
      "cell_type": "code",
      "metadata": {
        "id": "NjJn0EUhBw1O",
        "colab_type": "code",
        "colab": {
          "base_uri": "https://localhost:8080/",
          "height": 34
        },
        "outputId": "9258d379-654b-4c1d-b122-dd39aea34379"
      },
      "source": [
        "# train test split\n",
        "from sklearn import model_selection\n",
        "X_train,X_test,Y_train,Y_test = model_selection.train_test_split(x,y,test_size=0.3,random_state=None)\n",
        "X_train.shape, X_test.shape\n",
        "print(type(Y_train))"
      ],
      "execution_count": 11,
      "outputs": [
        {
          "output_type": "stream",
          "text": [
            "<class 'numpy.ndarray'>\n"
          ],
          "name": "stdout"
        }
      ]
    },
    {
      "cell_type": "code",
      "metadata": {
        "id": "rFtURRmr296-",
        "colab_type": "code",
        "colab": {}
      },
      "source": [
        "p = {'lr': (0.8, 1.2, 3),\n",
        "     'first_neuron':[4, 8, 16, 32, 64],\n",
        "     'hidden_layers':[0, 1, 2],\n",
        "     'batch_size': (1, 5, 5),\n",
        "     'epochs': [50, 100, 150],\n",
        "     'dropout': (0, 0.2, 3),\n",
        "     'weight_regulizer':[None],\n",
        "     'emb_output_dims': [None],\n",
        "     'shape':['brick','long_funnel'],\n",
        "     'kernel_initializer': ['uniform','normal'],\n",
        "     'optimizer': ['Adam', 'Nadam', 'RMSprop'],\n",
        "     'losses': ['binary_crossentropy'],\n",
        "     'activation':['relu', 'elu'],\n",
        "     'last_activation': ['sigmoid']}"
      ],
      "execution_count": 12,
      "outputs": []
    },
    {
      "cell_type": "code",
      "metadata": {
        "id": "CNl3Cz6c3aqI",
        "colab_type": "code",
        "colab": {
          "base_uri": "https://localhost:8080/",
          "height": 627
        },
        "outputId": "e234f3e7-1a7e-4051-8fdd-1f0b38f50d31"
      },
      "source": [
        "# and run the experiment\n",
        "t = talos.Scan(X_train, Y_train,\n",
        "               model=breast_cancer_model,\n",
        "               params=p,\n",
        "               experiment_name='HD_Test_1',\n",
        "               x_val = X_test, \n",
        "               y_val = Y_test,\n",
        "               round_limit=10)"
      ],
      "execution_count": 13,
      "outputs": [
        {
          "output_type": "display_data",
          "data": {
            "image/png": "[encoded data removed]",
            "text/plain": [
              "<Figure size 864x864 with 3 Axes>"
            ]
          },
          "metadata": {
            "tags": [],
            "needs_background": "light"
          }
        },
        {
          "output_type": "stream",
          "text": [
            "100%|██████████| 10/10 [12:57<00:00, 77.72s/it]\n"
          ],
          "name": "stderr"
        }
      ]
    },
    {
      "cell_type": "code",
      "metadata": {
        "id": "Qu7ka4Pv-GyB",
        "colab_type": "code",
        "colab": {}
      },
      "source": [
        "t = pd.DataFrame(t.data)\n",
        "#t.plot_corr()"
      ],
      "execution_count": 14,
      "outputs": []
    },
    {
      "cell_type": "code",
      "metadata": {
        "id": "yhJ7NbdP_VzP",
        "colab_type": "code",
        "colab": {
          "base_uri": "https://localhost:8080/",
          "height": 379
        },
        "outputId": "1a93a67b-0364-4773-b646-66bab4c7b6c0"
      },
      "source": [
        "t"
      ],
      "execution_count": 15,
      "outputs": [
        {
          "output_type": "execute_result",
          "data": {
            "text/html": [
              "<div>\n",
              "<style scoped>\n",
              "    .dataframe tbody tr th:only-of-type {\n",
              "        vertical-align: middle;\n",
              "    }\n",
              "\n",
              "    .dataframe tbody tr th {\n",
              "        vertical-align: top;\n",
              "    }\n",
              "\n",
              "    .dataframe thead th {\n",
              "        text-align: right;\n",
              "    }\n",
              "</style>\n",
              "<table border=\"1\" class=\"dataframe\">\n",
              "  <thead>\n",
              "    <tr style=\"text-align: right;\">\n",
              "      <th></th>\n",
              "      <th>round_epochs</th>\n",
              "      <th>val_loss</th>\n",
              "      <th>val_acc</th>\n",
              "      <th>val_f1score</th>\n",
              "      <th>loss</th>\n",
              "      <th>acc</th>\n",
              "      <th>f1score</th>\n",
              "      <th>activation</th>\n",
              "      <th>batch_size</th>\n",
              "      <th>dropout</th>\n",
              "      <th>emb_output_dims</th>\n",
              "      <th>epochs</th>\n",
              "      <th>first_neuron</th>\n",
              "      <th>hidden_layers</th>\n",
              "      <th>kernel_initializer</th>\n",
              "      <th>last_activation</th>\n",
              "      <th>losses</th>\n",
              "      <th>lr</th>\n",
              "      <th>optimizer</th>\n",
              "      <th>shape</th>\n",
              "      <th>weight_regulizer</th>\n",
              "    </tr>\n",
              "  </thead>\n",
              "  <tbody>\n",
              "    <tr>\n",
              "      <th>0</th>\n",
              "      <td>50</td>\n",
              "      <td>0.413335</td>\n",
              "      <td>0.808989</td>\n",
              "      <td>0.421111</td>\n",
              "      <td>0.346992</td>\n",
              "      <td>0.824390</td>\n",
              "      <td>0.464734</td>\n",
              "      <td>elu</td>\n",
              "      <td>3</td>\n",
              "      <td>0.133333</td>\n",
              "      <td>None</td>\n",
              "      <td>50</td>\n",
              "      <td>16</td>\n",
              "      <td>1</td>\n",
              "      <td>normal</td>\n",
              "      <td>sigmoid</td>\n",
              "      <td>binary_crossentropy</td>\n",
              "      <td>1.066667</td>\n",
              "      <td>Nadam</td>\n",
              "      <td>brick</td>\n",
              "      <td>None</td>\n",
              "    </tr>\n",
              "    <tr>\n",
              "      <th>1</th>\n",
              "      <td>150</td>\n",
              "      <td>0.441108</td>\n",
              "      <td>0.842697</td>\n",
              "      <td>0.414815</td>\n",
              "      <td>0.307365</td>\n",
              "      <td>0.863415</td>\n",
              "      <td>0.462783</td>\n",
              "      <td>elu</td>\n",
              "      <td>2</td>\n",
              "      <td>0.133333</td>\n",
              "      <td>None</td>\n",
              "      <td>150</td>\n",
              "      <td>8</td>\n",
              "      <td>1</td>\n",
              "      <td>uniform</td>\n",
              "      <td>sigmoid</td>\n",
              "      <td>binary_crossentropy</td>\n",
              "      <td>1.066667</td>\n",
              "      <td>Nadam</td>\n",
              "      <td>brick</td>\n",
              "      <td>None</td>\n",
              "    </tr>\n",
              "    <tr>\n",
              "      <th>2</th>\n",
              "      <td>100</td>\n",
              "      <td>0.414682</td>\n",
              "      <td>0.842697</td>\n",
              "      <td>0.303371</td>\n",
              "      <td>0.339959</td>\n",
              "      <td>0.858537</td>\n",
              "      <td>0.263415</td>\n",
              "      <td>relu</td>\n",
              "      <td>1</td>\n",
              "      <td>0.066667</td>\n",
              "      <td>None</td>\n",
              "      <td>100</td>\n",
              "      <td>4</td>\n",
              "      <td>1</td>\n",
              "      <td>normal</td>\n",
              "      <td>sigmoid</td>\n",
              "      <td>binary_crossentropy</td>\n",
              "      <td>0.800000</td>\n",
              "      <td>Nadam</td>\n",
              "      <td>brick</td>\n",
              "      <td>None</td>\n",
              "    </tr>\n",
              "    <tr>\n",
              "      <th>3</th>\n",
              "      <td>150</td>\n",
              "      <td>0.454283</td>\n",
              "      <td>0.797753</td>\n",
              "      <td>0.444444</td>\n",
              "      <td>0.311964</td>\n",
              "      <td>0.873171</td>\n",
              "      <td>0.601449</td>\n",
              "      <td>elu</td>\n",
              "      <td>3</td>\n",
              "      <td>0.066667</td>\n",
              "      <td>None</td>\n",
              "      <td>150</td>\n",
              "      <td>32</td>\n",
              "      <td>2</td>\n",
              "      <td>uniform</td>\n",
              "      <td>sigmoid</td>\n",
              "      <td>binary_crossentropy</td>\n",
              "      <td>0.800000</td>\n",
              "      <td>Adam</td>\n",
              "      <td>brick</td>\n",
              "      <td>None</td>\n",
              "    </tr>\n",
              "    <tr>\n",
              "      <th>4</th>\n",
              "      <td>100</td>\n",
              "      <td>0.526819</td>\n",
              "      <td>0.808989</td>\n",
              "      <td>0.280899</td>\n",
              "      <td>0.277764</td>\n",
              "      <td>0.873171</td>\n",
              "      <td>0.273171</td>\n",
              "      <td>elu</td>\n",
              "      <td>1</td>\n",
              "      <td>0.000000</td>\n",
              "      <td>None</td>\n",
              "      <td>100</td>\n",
              "      <td>16</td>\n",
              "      <td>0</td>\n",
              "      <td>normal</td>\n",
              "      <td>sigmoid</td>\n",
              "      <td>binary_crossentropy</td>\n",
              "      <td>1.066667</td>\n",
              "      <td>Nadam</td>\n",
              "      <td>brick</td>\n",
              "      <td>None</td>\n",
              "    </tr>\n",
              "    <tr>\n",
              "      <th>5</th>\n",
              "      <td>150</td>\n",
              "      <td>0.481251</td>\n",
              "      <td>0.831461</td>\n",
              "      <td>0.444444</td>\n",
              "      <td>0.270122</td>\n",
              "      <td>0.878049</td>\n",
              "      <td>0.504854</td>\n",
              "      <td>relu</td>\n",
              "      <td>2</td>\n",
              "      <td>0.133333</td>\n",
              "      <td>None</td>\n",
              "      <td>150</td>\n",
              "      <td>32</td>\n",
              "      <td>2</td>\n",
              "      <td>normal</td>\n",
              "      <td>sigmoid</td>\n",
              "      <td>binary_crossentropy</td>\n",
              "      <td>1.066667</td>\n",
              "      <td>Adam</td>\n",
              "      <td>long_funnel</td>\n",
              "      <td>None</td>\n",
              "    </tr>\n",
              "    <tr>\n",
              "      <th>6</th>\n",
              "      <td>150</td>\n",
              "      <td>0.427224</td>\n",
              "      <td>0.797753</td>\n",
              "      <td>0.340741</td>\n",
              "      <td>0.359012</td>\n",
              "      <td>0.814634</td>\n",
              "      <td>0.398058</td>\n",
              "      <td>elu</td>\n",
              "      <td>2</td>\n",
              "      <td>0.133333</td>\n",
              "      <td>None</td>\n",
              "      <td>150</td>\n",
              "      <td>64</td>\n",
              "      <td>2</td>\n",
              "      <td>uniform</td>\n",
              "      <td>sigmoid</td>\n",
              "      <td>binary_crossentropy</td>\n",
              "      <td>0.933333</td>\n",
              "      <td>RMSprop</td>\n",
              "      <td>long_funnel</td>\n",
              "      <td>None</td>\n",
              "    </tr>\n",
              "    <tr>\n",
              "      <th>7</th>\n",
              "      <td>50</td>\n",
              "      <td>0.409016</td>\n",
              "      <td>0.797753</td>\n",
              "      <td>0.448889</td>\n",
              "      <td>0.393465</td>\n",
              "      <td>0.819512</td>\n",
              "      <td>0.501449</td>\n",
              "      <td>elu</td>\n",
              "      <td>3</td>\n",
              "      <td>0.133333</td>\n",
              "      <td>None</td>\n",
              "      <td>50</td>\n",
              "      <td>64</td>\n",
              "      <td>1</td>\n",
              "      <td>uniform</td>\n",
              "      <td>sigmoid</td>\n",
              "      <td>binary_crossentropy</td>\n",
              "      <td>1.066667</td>\n",
              "      <td>RMSprop</td>\n",
              "      <td>long_funnel</td>\n",
              "      <td>None</td>\n",
              "    </tr>\n",
              "    <tr>\n",
              "      <th>8</th>\n",
              "      <td>150</td>\n",
              "      <td>0.440083</td>\n",
              "      <td>0.820225</td>\n",
              "      <td>0.280899</td>\n",
              "      <td>0.306680</td>\n",
              "      <td>0.873171</td>\n",
              "      <td>0.273171</td>\n",
              "      <td>elu</td>\n",
              "      <td>1</td>\n",
              "      <td>0.133333</td>\n",
              "      <td>None</td>\n",
              "      <td>150</td>\n",
              "      <td>8</td>\n",
              "      <td>1</td>\n",
              "      <td>uniform</td>\n",
              "      <td>sigmoid</td>\n",
              "      <td>binary_crossentropy</td>\n",
              "      <td>0.800000</td>\n",
              "      <td>Nadam</td>\n",
              "      <td>long_funnel</td>\n",
              "      <td>None</td>\n",
              "    </tr>\n",
              "    <tr>\n",
              "      <th>9</th>\n",
              "      <td>150</td>\n",
              "      <td>0.460024</td>\n",
              "      <td>0.808989</td>\n",
              "      <td>0.355556</td>\n",
              "      <td>0.298696</td>\n",
              "      <td>0.863415</td>\n",
              "      <td>0.446602</td>\n",
              "      <td>elu</td>\n",
              "      <td>2</td>\n",
              "      <td>0.066667</td>\n",
              "      <td>None</td>\n",
              "      <td>150</td>\n",
              "      <td>64</td>\n",
              "      <td>0</td>\n",
              "      <td>normal</td>\n",
              "      <td>sigmoid</td>\n",
              "      <td>binary_crossentropy</td>\n",
              "      <td>0.800000</td>\n",
              "      <td>Adam</td>\n",
              "      <td>long_funnel</td>\n",
              "      <td>None</td>\n",
              "    </tr>\n",
              "  </tbody>\n",
              "</table>\n",
              "</div>"
            ],
            "text/plain": [
              "   round_epochs  val_loss   val_acc  ...  optimizer        shape  weight_regulizer\n",
              "0            50  0.413335  0.808989  ...      Nadam        brick              None\n",
              "1           150  0.441108  0.842697  ...      Nadam        brick              None\n",
              "2           100  0.414682  0.842697  ...      Nadam        brick              None\n",
              "3           150  0.454283  0.797753  ...       Adam        brick              None\n",
              "4           100  0.526819  0.808989  ...      Nadam        brick              None\n",
              "5           150  0.481251  0.831461  ...       Adam  long_funnel              None\n",
              "6           150  0.427224  0.797753  ...    RMSprop  long_funnel              None\n",
              "7            50  0.409016  0.797753  ...    RMSprop  long_funnel              None\n",
              "8           150  0.440083  0.820225  ...      Nadam  long_funnel              None\n",
              "9           150  0.460024  0.808989  ...       Adam  long_funnel              None\n",
              "\n",
              "[10 rows x 21 columns]"
            ]
          },
          "metadata": {
            "tags": []
          },
          "execution_count": 15
        }
      ]
    },
    {
      "cell_type": "code",
      "metadata": {
        "id": "AayAoRjN62V-",
        "colab_type": "code",
        "colab": {
          "base_uri": "https://localhost:8080/",
          "height": 326
        },
        "outputId": "935f4719-f6e1-439e-cf04-fdbe7bddb459"
      },
      "source": [
        "import matplotlib.pyplot as plt\n",
        "from matplotlib.pyplot import figure\n",
        "\n",
        "figure(figsize=(20,10))\n",
        "\n",
        "#make the scan into dataframe using t = pd.DataFrame(t.data)\n",
        "#create matrix\n",
        "plt.matshow(t.corr())\n",
        "plt.xticks(range(t.corr().shape[1]), t.corr().columns, rotation=90)\n",
        "plt.yticks(range(t.corr().shape[1]), t.corr().columns)\n",
        "cb = plt.colorbar()\n",
        "plt.show()\n"
      ],
      "execution_count": 16,
      "outputs": [
        {
          "output_type": "display_data",
          "data": {
            "text/plain": [
              "<Figure size 1440x720 with 0 Axes>"
            ]
          },
          "metadata": {
            "tags": []
          }
        },
        {
          "output_type": "display_data",
          "data": {
            "image/png": "[encoded data removed]",
            "text/plain": [
              "<Figure size 288x288 with 2 Axes>"
            ]
          },
          "metadata": {
            "tags": [],
            "needs_background": "light"
          }
        }
      ]
    },
    {
      "cell_type": "code",
      "metadata": {
        "id": "T2P6l3zJ8E87",
        "colab_type": "code",
        "colab": {
          "base_uri": "https://localhost:8080/",
          "height": 379
        },
        "outputId": "4fd2e622-74c9-47fa-c1e2-e6281ae9dad3"
      },
      "source": [
        "t"
      ],
      "execution_count": 35,
      "outputs": [
        {
          "output_type": "execute_result",
          "data": {
            "text/html": [
              "<div>\n",
              "<style scoped>\n",
              "    .dataframe tbody tr th:only-of-type {\n",
              "        vertical-align: middle;\n",
              "    }\n",
              "\n",
              "    .dataframe tbody tr th {\n",
              "        vertical-align: top;\n",
              "    }\n",
              "\n",
              "    .dataframe thead th {\n",
              "        text-align: right;\n",
              "    }\n",
              "</style>\n",
              "<table border=\"1\" class=\"dataframe\">\n",
              "  <thead>\n",
              "    <tr style=\"text-align: right;\">\n",
              "      <th></th>\n",
              "      <th>round_epochs</th>\n",
              "      <th>val_loss</th>\n",
              "      <th>val_acc</th>\n",
              "      <th>val_f1score</th>\n",
              "      <th>loss</th>\n",
              "      <th>acc</th>\n",
              "      <th>f1score</th>\n",
              "      <th>activation</th>\n",
              "      <th>batch_size</th>\n",
              "      <th>dropout</th>\n",
              "      <th>emb_output_dims</th>\n",
              "      <th>epochs</th>\n",
              "      <th>first_neuron</th>\n",
              "      <th>hidden_layers</th>\n",
              "      <th>kernel_initializer</th>\n",
              "      <th>last_activation</th>\n",
              "      <th>losses</th>\n",
              "      <th>lr</th>\n",
              "      <th>optimizer</th>\n",
              "      <th>shape</th>\n",
              "      <th>weight_regulizer</th>\n",
              "    </tr>\n",
              "  </thead>\n",
              "  <tbody>\n",
              "    <tr>\n",
              "      <th>0</th>\n",
              "      <td>50</td>\n",
              "      <td>0.413335</td>\n",
              "      <td>0.808989</td>\n",
              "      <td>0.421111</td>\n",
              "      <td>0.346992</td>\n",
              "      <td>0.824390</td>\n",
              "      <td>0.464734</td>\n",
              "      <td>elu</td>\n",
              "      <td>3</td>\n",
              "      <td>0.133333</td>\n",
              "      <td>None</td>\n",
              "      <td>50</td>\n",
              "      <td>16</td>\n",
              "      <td>1</td>\n",
              "      <td>normal</td>\n",
              "      <td>sigmoid</td>\n",
              "      <td>binary_crossentropy</td>\n",
              "      <td>1.066667</td>\n",
              "      <td>Nadam</td>\n",
              "      <td>brick</td>\n",
              "      <td>None</td>\n",
              "    </tr>\n",
              "    <tr>\n",
              "      <th>1</th>\n",
              "      <td>150</td>\n",
              "      <td>0.441108</td>\n",
              "      <td>0.842697</td>\n",
              "      <td>0.414815</td>\n",
              "      <td>0.307365</td>\n",
              "      <td>0.863415</td>\n",
              "      <td>0.462783</td>\n",
              "      <td>elu</td>\n",
              "      <td>2</td>\n",
              "      <td>0.133333</td>\n",
              "      <td>None</td>\n",
              "      <td>150</td>\n",
              "      <td>8</td>\n",
              "      <td>1</td>\n",
              "      <td>uniform</td>\n",
              "      <td>sigmoid</td>\n",
              "      <td>binary_crossentropy</td>\n",
              "      <td>1.066667</td>\n",
              "      <td>Nadam</td>\n",
              "      <td>brick</td>\n",
              "      <td>None</td>\n",
              "    </tr>\n",
              "    <tr>\n",
              "      <th>2</th>\n",
              "      <td>100</td>\n",
              "      <td>0.414682</td>\n",
              "      <td>0.842697</td>\n",
              "      <td>0.303371</td>\n",
              "      <td>0.339959</td>\n",
              "      <td>0.858537</td>\n",
              "      <td>0.263415</td>\n",
              "      <td>relu</td>\n",
              "      <td>1</td>\n",
              "      <td>0.066667</td>\n",
              "      <td>None</td>\n",
              "      <td>100</td>\n",
              "      <td>4</td>\n",
              "      <td>1</td>\n",
              "      <td>normal</td>\n",
              "      <td>sigmoid</td>\n",
              "      <td>binary_crossentropy</td>\n",
              "      <td>0.800000</td>\n",
              "      <td>Nadam</td>\n",
              "      <td>brick</td>\n",
              "      <td>None</td>\n",
              "    </tr>\n",
              "    <tr>\n",
              "      <th>3</th>\n",
              "      <td>150</td>\n",
              "      <td>0.454283</td>\n",
              "      <td>0.797753</td>\n",
              "      <td>0.444444</td>\n",
              "      <td>0.311964</td>\n",
              "      <td>0.873171</td>\n",
              "      <td>0.601449</td>\n",
              "      <td>elu</td>\n",
              "      <td>3</td>\n",
              "      <td>0.066667</td>\n",
              "      <td>None</td>\n",
              "      <td>150</td>\n",
              "      <td>32</td>\n",
              "      <td>2</td>\n",
              "      <td>uniform</td>\n",
              "      <td>sigmoid</td>\n",
              "      <td>binary_crossentropy</td>\n",
              "      <td>0.800000</td>\n",
              "      <td>Adam</td>\n",
              "      <td>brick</td>\n",
              "      <td>None</td>\n",
              "    </tr>\n",
              "    <tr>\n",
              "      <th>4</th>\n",
              "      <td>100</td>\n",
              "      <td>0.526819</td>\n",
              "      <td>0.808989</td>\n",
              "      <td>0.280899</td>\n",
              "      <td>0.277764</td>\n",
              "      <td>0.873171</td>\n",
              "      <td>0.273171</td>\n",
              "      <td>elu</td>\n",
              "      <td>1</td>\n",
              "      <td>0.000000</td>\n",
              "      <td>None</td>\n",
              "      <td>100</td>\n",
              "      <td>16</td>\n",
              "      <td>0</td>\n",
              "      <td>normal</td>\n",
              "      <td>sigmoid</td>\n",
              "      <td>binary_crossentropy</td>\n",
              "      <td>1.066667</td>\n",
              "      <td>Nadam</td>\n",
              "      <td>brick</td>\n",
              "      <td>None</td>\n",
              "    </tr>\n",
              "    <tr>\n",
              "      <th>5</th>\n",
              "      <td>150</td>\n",
              "      <td>0.481251</td>\n",
              "      <td>0.831461</td>\n",
              "      <td>0.444444</td>\n",
              "      <td>0.270122</td>\n",
              "      <td>0.878049</td>\n",
              "      <td>0.504854</td>\n",
              "      <td>relu</td>\n",
              "      <td>2</td>\n",
              "      <td>0.133333</td>\n",
              "      <td>None</td>\n",
              "      <td>150</td>\n",
              "      <td>32</td>\n",
              "      <td>2</td>\n",
              "      <td>normal</td>\n",
              "      <td>sigmoid</td>\n",
              "      <td>binary_crossentropy</td>\n",
              "      <td>1.066667</td>\n",
              "      <td>Adam</td>\n",
              "      <td>long_funnel</td>\n",
              "      <td>None</td>\n",
              "    </tr>\n",
              "    <tr>\n",
              "      <th>6</th>\n",
              "      <td>150</td>\n",
              "      <td>0.427224</td>\n",
              "      <td>0.797753</td>\n",
              "      <td>0.340741</td>\n",
              "      <td>0.359012</td>\n",
              "      <td>0.814634</td>\n",
              "      <td>0.398058</td>\n",
              "      <td>elu</td>\n",
              "      <td>2</td>\n",
              "      <td>0.133333</td>\n",
              "      <td>None</td>\n",
              "      <td>150</td>\n",
              "      <td>64</td>\n",
              "      <td>2</td>\n",
              "      <td>uniform</td>\n",
              "      <td>sigmoid</td>\n",
              "      <td>binary_crossentropy</td>\n",
              "      <td>0.933333</td>\n",
              "      <td>RMSprop</td>\n",
              "      <td>long_funnel</td>\n",
              "      <td>None</td>\n",
              "    </tr>\n",
              "    <tr>\n",
              "      <th>7</th>\n",
              "      <td>50</td>\n",
              "      <td>0.409016</td>\n",
              "      <td>0.797753</td>\n",
              "      <td>0.448889</td>\n",
              "      <td>0.393465</td>\n",
              "      <td>0.819512</td>\n",
              "      <td>0.501449</td>\n",
              "      <td>elu</td>\n",
              "      <td>3</td>\n",
              "      <td>0.133333</td>\n",
              "      <td>None</td>\n",
              "      <td>50</td>\n",
              "      <td>64</td>\n",
              "      <td>1</td>\n",
              "      <td>uniform</td>\n",
              "      <td>sigmoid</td>\n",
              "      <td>binary_crossentropy</td>\n",
              "      <td>1.066667</td>\n",
              "      <td>RMSprop</td>\n",
              "      <td>long_funnel</td>\n",
              "      <td>None</td>\n",
              "    </tr>\n",
              "    <tr>\n",
              "      <th>8</th>\n",
              "      <td>150</td>\n",
              "      <td>0.440083</td>\n",
              "      <td>0.820225</td>\n",
              "      <td>0.280899</td>\n",
              "      <td>0.306680</td>\n",
              "      <td>0.873171</td>\n",
              "      <td>0.273171</td>\n",
              "      <td>elu</td>\n",
              "      <td>1</td>\n",
              "      <td>0.133333</td>\n",
              "      <td>None</td>\n",
              "      <td>150</td>\n",
              "      <td>8</td>\n",
              "      <td>1</td>\n",
              "      <td>uniform</td>\n",
              "      <td>sigmoid</td>\n",
              "      <td>binary_crossentropy</td>\n",
              "      <td>0.800000</td>\n",
              "      <td>Nadam</td>\n",
              "      <td>long_funnel</td>\n",
              "      <td>None</td>\n",
              "    </tr>\n",
              "    <tr>\n",
              "      <th>9</th>\n",
              "      <td>150</td>\n",
              "      <td>0.460024</td>\n",
              "      <td>0.808989</td>\n",
              "      <td>0.355556</td>\n",
              "      <td>0.298696</td>\n",
              "      <td>0.863415</td>\n",
              "      <td>0.446602</td>\n",
              "      <td>elu</td>\n",
              "      <td>2</td>\n",
              "      <td>0.066667</td>\n",
              "      <td>None</td>\n",
              "      <td>150</td>\n",
              "      <td>64</td>\n",
              "      <td>0</td>\n",
              "      <td>normal</td>\n",
              "      <td>sigmoid</td>\n",
              "      <td>binary_crossentropy</td>\n",
              "      <td>0.800000</td>\n",
              "      <td>Adam</td>\n",
              "      <td>long_funnel</td>\n",
              "      <td>None</td>\n",
              "    </tr>\n",
              "  </tbody>\n",
              "</table>\n",
              "</div>"
            ],
            "text/plain": [
              "   round_epochs  val_loss   val_acc  ...  optimizer        shape  weight_regulizer\n",
              "0            50  0.413335  0.808989  ...      Nadam        brick              None\n",
              "1           150  0.441108  0.842697  ...      Nadam        brick              None\n",
              "2           100  0.414682  0.842697  ...      Nadam        brick              None\n",
              "3           150  0.454283  0.797753  ...       Adam        brick              None\n",
              "4           100  0.526819  0.808989  ...      Nadam        brick              None\n",
              "5           150  0.481251  0.831461  ...       Adam  long_funnel              None\n",
              "6           150  0.427224  0.797753  ...    RMSprop  long_funnel              None\n",
              "7            50  0.409016  0.797753  ...    RMSprop  long_funnel              None\n",
              "8           150  0.440083  0.820225  ...      Nadam  long_funnel              None\n",
              "9           150  0.460024  0.808989  ...       Adam  long_funnel              None\n",
              "\n",
              "[10 rows x 21 columns]"
            ]
          },
          "metadata": {
            "tags": []
          },
          "execution_count": 35
        }
      ]
    },
    {
      "cell_type": "code",
      "metadata": {
        "id": "I-OKiGIIbhm0",
        "colab_type": "code",
        "colab": {
          "base_uri": "https://localhost:8080/",
          "height": 69
        },
        "outputId": "b64f5762-2766-4c83-ff22-f24282bf64b7"
      },
      "source": [
        "d = pd.DataFrame(t)\n",
        "lr_unique = list(set(t['lr']))\n",
        "d.loc[(t['hidden_layers'] == 3) & (t['lr'] == lr_unique[0]) & (t['epochs'] == 100)]\n"
      ],
      "execution_count": 33,
      "outputs": [
        {
          "output_type": "execute_result",
          "data": {
            "text/html": [
              "<div>\n",
              "<style scoped>\n",
              "    .dataframe tbody tr th:only-of-type {\n",
              "        vertical-align: middle;\n",
              "    }\n",
              "\n",
              "    .dataframe tbody tr th {\n",
              "        vertical-align: top;\n",
              "    }\n",
              "\n",
              "    .dataframe thead th {\n",
              "        text-align: right;\n",
              "    }\n",
              "</style>\n",
              "<table border=\"1\" class=\"dataframe\">\n",
              "  <thead>\n",
              "    <tr style=\"text-align: right;\">\n",
              "      <th></th>\n",
              "      <th>round_epochs</th>\n",
              "      <th>val_loss</th>\n",
              "      <th>val_acc</th>\n",
              "      <th>val_f1score</th>\n",
              "      <th>loss</th>\n",
              "      <th>acc</th>\n",
              "      <th>f1score</th>\n",
              "      <th>activation</th>\n",
              "      <th>batch_size</th>\n",
              "      <th>dropout</th>\n",
              "      <th>emb_output_dims</th>\n",
              "      <th>epochs</th>\n",
              "      <th>first_neuron</th>\n",
              "      <th>hidden_layers</th>\n",
              "      <th>kernel_initializer</th>\n",
              "      <th>last_activation</th>\n",
              "      <th>losses</th>\n",
              "      <th>lr</th>\n",
              "      <th>optimizer</th>\n",
              "      <th>shape</th>\n",
              "      <th>weight_regulizer</th>\n",
              "    </tr>\n",
              "  </thead>\n",
              "  <tbody>\n",
              "  </tbody>\n",
              "</table>\n",
              "</div>"
            ],
            "text/plain": [
              "Empty DataFrame\n",
              "Columns: [round_epochs, val_loss, val_acc, val_f1score, loss, acc, f1score, activation, batch_size, dropout, emb_output_dims, epochs, first_neuron, hidden_layers, kernel_initializer, last_activation, losses, lr, optimizer, shape, weight_regulizer]\n",
              "Index: []"
            ]
          },
          "metadata": {
            "tags": []
          },
          "execution_count": 33
        }
      ]
    },
    {
      "cell_type": "code",
      "metadata": {
        "id": "8cC3kZmoZTMq",
        "colab_type": "code",
        "colab": {
          "base_uri": "https://localhost:8080/",
          "height": 297
        },
        "outputId": "aed2f390-c43b-442a-b57c-65d711e6ac8e"
      },
      "source": [
        "# data to plot\n",
        "n_groups = len(set(t['lr']))\n",
        "hidden_layer_1 = (85, 62, 54)\n",
        "hidden_layer_2 = (85, 62, 20)\n",
        "hidden_layer_3 = (30, 40, 20)\n",
        "\n",
        "# create plot\n",
        "fig, ax = plt.subplots()\n",
        "index = np.arange(n_groups)\n",
        "bar_width = 0.2\n",
        "opacity = 0.8\n",
        "\n",
        "rects1 = plt.bar(index, hidden_layer_1, bar_width,\n",
        "alpha=opacity,\n",
        "color='b',\n",
        "label='HL_1')\n",
        "\n",
        "rects2 = plt.bar(index + bar_width, hidden_layer_2, bar_width,\n",
        "alpha=opacity,\n",
        "color='g',\n",
        "label='HL_2')\n",
        "\n",
        "rects3 = plt.bar(index + 2*bar_width, hidden_layer_3, bar_width,\n",
        "alpha=opacity,\n",
        "color='r',\n",
        "label='HL_3')\n",
        "\n",
        "plt.xlabel('lr')\n",
        "plt.ylabel('val_acc')\n",
        "plt.title('v')\n",
        "plt.xticks(index + bar_width, set(t['lr']))\n",
        "plt.legend()\n",
        "\n",
        "plt.tight_layout()\n",
        "plt.show()"
      ],
      "execution_count": 30,
      "outputs": [
        {
          "output_type": "display_data",
          "data": {
            "image/png": "[encoded data removed]",
            "text/plain": [
              "<Figure size 432x288 with 1 Axes>"
            ]
          },
          "metadata": {
            "tags": [],
            "needs_background": "light"
          }
        }
      ]
    },
    {
      "cell_type": "code",
      "metadata": {
        "id": "RUpwbh0_KnG0",
        "colab_type": "code",
        "colab": {}
      },
      "source": [
        "data.to_csv('HD2_1.csv')"
      ],
      "execution_count": null,
      "outputs": []
    }
  ]
}